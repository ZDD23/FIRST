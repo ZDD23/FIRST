{
 "cells": [
  {
   "cell_type": "code",
   "metadata": {
    "pycharm": {
     "name": "#%%\n"
    },
    "ExecuteTime": {
     "end_time": "2024-08-25T02:23:15.434488Z",
     "start_time": "2024-08-25T02:23:06.203906Z"
    }
   },
   "source": [
    "from EduData import get_data\n",
    "import os\n",
    "\n",
    "if not os.path.exists('../../data/anonymized_full_release_competition_dataset/anonymized_full_release_competition_dataset.csv'):\n",
    "    get_data(\"assistment-2017\", \"../../data\")"
   ],
   "outputs": [
    {
     "name": "stderr",
     "output_type": "stream",
     "text": [
      "downloader, INFO http://base.ustc.edu.cn/data/ASSISTment/anonymized_full_release_competition_dataset.zip is saved as ..\\..\\data\\anonymized_full_release_competition_dataset.zip\n"
     ]
    },
    {
     "name": "stdout",
     "output_type": "stream",
     "text": [
      "Downloading ..\\..\\data\\anonymized_full_release_competition_dataset.zip 100.00%: 65.1MB | 65.1MB"
     ]
    },
    {
     "name": "stderr",
     "output_type": "stream",
     "text": [
      "downloader, INFO ..\\..\\data\\anonymized_full_release_competition_dataset.zip is unzip to ..\\..\\data\\anonymized_full_release_competition_dataset\n"
     ]
    },
    {
     "name": "stdout",
     "output_type": "stream",
     "text": [
      "\n"
     ]
    }
   ],
   "execution_count": 18
  },
  {
   "cell_type": "code",
   "metadata": {
    "ExecuteTime": {
     "end_time": "2024-08-25T02:23:56.384282Z",
     "start_time": "2024-08-25T02:23:46.507798Z"
    }
   },
   "source": [
    "import pandas as pd\n",
    "import tqdm\n",
    "\n",
    "data = pd.read_csv(\n",
    "    '../../data/anonymized_full_release_competition_dataset/anonymized_full_release_competition_dataset.csv',\n",
    "    usecols=['startTime', 'timeTaken', 'studentId', 'skill', 'problemId', 'correct','attemptCount', 'hintCount']\n",
    ").dropna(subset=['skill', 'problemId']).sort_values('startTime')\n",
    "\n",
    "data.timeTaken = data.timeTaken.astype(int)"
   ],
   "outputs": [],
   "execution_count": 19
  },
  {
   "cell_type": "code",
   "metadata": {
    "ExecuteTime": {
     "end_time": "2024-08-25T02:24:52.097209Z",
     "start_time": "2024-08-25T02:24:51.836904Z"
    }
   },
   "source": [
    "skills = data.skill.unique().tolist()\n",
    "problems = data.problemId.unique().tolist()\n",
    "at = data.timeTaken.unique()\n",
    "\n",
    "# question id from 1 to #num_skill\n",
    "skill2id = { p: i+1 for i, p in enumerate(skills) }\n",
    "problem2id = { p: i+1 for i, p in enumerate(problems) }\n",
    "at2id = { a: i for i, a in enumerate(at) }\n",
    "\n",
    "print(\"number of skills: %d\" % len(skills))\n",
    "print(\"number of problems: %d\" % len(problems))\n",
    "print(\"number of answer time: %d\" % len(at))"
   ],
   "outputs": [
    {
     "name": "stdout",
     "output_type": "stream",
     "text": [
      "number of skills: 102\n",
      "number of problems: 3162\n",
      "number of answer time: 1326\n"
     ]
    }
   ],
   "execution_count": 20
  },
  {
   "cell_type": "code",
   "source": [
    "import numpy as np\n",
    "\n",
    "it = set()\n",
    "# calculate interval time\n",
    "for u in data.studentId.unique():\n",
    "    startTime = np.array(data[data.studentId == u].startTime)\n",
    "    for i in range(1, len(startTime)):\n",
    "        item = (startTime[i] - startTime[i - 1]) // 60\n",
    "        if item > 43200:\n",
    "            item = 43200\n",
    "        it.add(item)\n",
    "\n",
    "it2id = { a: i for i, a in enumerate(it) }\n",
    "print(\"number of interval time: %d\" % len(it))"
   ],
   "metadata": {
    "collapsed": false,
    "pycharm": {
     "name": "#%%\n"
    },
    "ExecuteTime": {
     "end_time": "2024-08-25T02:25:23.927486Z",
     "start_time": "2024-08-25T02:25:16.881835Z"
    }
   },
   "outputs": [
    {
     "name": "stdout",
     "output_type": "stream",
     "text": [
      "number of interval time: 2839\n"
     ]
    }
   ],
   "execution_count": 21
  },
  {
   "cell_type": "code",
   "source": [
    "# problems to skills\n",
    "problem2skill = {}\n",
    "for s, p in zip(np.array(data.skill), np.array(data.problemId)):\n",
    "    problem2skill[problem2id[p]] = skill2id[s]\n",
    "with open('../../data/anonymized_full_release_competition_dataset/problem2skill', 'w', encoding='utf-8') as f:\n",
    "    f.write(str(problem2skill))"
   ],
   "metadata": {
    "collapsed": false,
    "pycharm": {
     "name": "#%%\n"
    },
    "ExecuteTime": {
     "end_time": "2024-08-25T02:25:44.375347Z",
     "start_time": "2024-08-25T02:25:42.704291Z"
    }
   },
   "outputs": [],
   "execution_count": 22
  },
  {
   "cell_type": "code",
   "metadata": {
    "ExecuteTime": {
     "end_time": "2024-08-25T02:26:11.127837Z",
     "start_time": "2024-08-25T02:25:59.859123Z"
    }
   },
   "source": [
    "def parse_all_seq(students):\n",
    "    all_sequences = []\n",
    "    for student_id in tqdm.tqdm(students, 'parse student sequence:\\t'):\n",
    "        student_sequence = parse_student_seq(data[data.studentId == student_id])\n",
    "        all_sequences.extend([student_sequence])\n",
    "    return all_sequences\n",
    "\n",
    "\n",
    "def parse_student_seq(student):\n",
    "    seq = student\n",
    "    s = [skill2id[q] for q in seq.skill.tolist()] # 学生行为记录中的 skill 列（技能ID）转换为相应的 skill2id 映射，生成技能ID列表 s\n",
    "    a = seq.correct.tolist()\n",
    "    p = [problem2id[p] for p in seq.problemId.tolist()] # 将 problemId 列中的题目ID映射到 problem2id，生成题目ID列表 p\n",
    "    it = [0]   # 初始化时间间隔列表 it，其中第一个时间间隔为0\n",
    "    startTime = np.array(seq.startTime) # 将 startTime 列（表示每道题目开始作答的时间）转换为Numpy数组，方便处理时间差。\n",
    "    for i in range(1, len(startTime)): \n",
    "        item = (startTime[i] - startTime[i - 1]) // 60\n",
    "        if item > 43200:\n",
    "            item = 43200\n",
    "        it.append(it2id[item])  # 将时间差映射为 it2id，并添加到 it 列表中。\n",
    "    at = [at2id[int(x)] for x in seq.timeTaken.tolist()] # \n",
    "    # （timeTaken）映射到 at2id，生成回答时间ID列表 at。\n",
    "    return s, a, p, it, at\n",
    "\n",
    "\n",
    "sequences = parse_all_seq(data.studentId.unique())"
   ],
   "outputs": [
    {
     "name": "stderr",
     "output_type": "stream",
     "text": [
      "parse student sequence:\t: 100%|██████████| 1709/1709 [00:11<00:00, 152.59it/s]\n"
     ]
    }
   ],
   "execution_count": 23
  },
  {
   "cell_type": "code",
   "source": [
    "from sklearn.model_selection import train_test_split, KFold\n",
    "\n",
    "# split train data and test data\n",
    "train_data, test_data = train_test_split(sequences, test_size=.2, random_state=10)\n",
    "train_data = np.array(train_data)\n",
    "test_data = np.array(test_data)"
   ],
   "metadata": {
    "collapsed": false,
    "pycharm": {
     "name": "#%%\n"
    },
    "ExecuteTime": {
     "end_time": "2024-08-25T02:31:01.745402Z",
     "start_time": "2024-08-25T02:31:01.198597Z"
    }
   },
   "outputs": [
    {
     "ename": "ValueError",
     "evalue": "setting an array element with a sequence. The requested array has an inhomogeneous shape after 2 dimensions. The detected shape was (1367, 5) + inhomogeneous part.",
     "output_type": "error",
     "traceback": [
      "\u001B[1;31m---------------------------------------------------------------------------\u001B[0m",
      "\u001B[1;31mValueError\u001B[0m                                Traceback (most recent call last)",
      "Cell \u001B[1;32mIn[24], line 5\u001B[0m\n\u001B[0;32m      3\u001B[0m \u001B[38;5;66;03m# split train data and test data\u001B[39;00m\n\u001B[0;32m      4\u001B[0m train_data, test_data \u001B[38;5;241m=\u001B[39m train_test_split(sequences, test_size\u001B[38;5;241m=\u001B[39m\u001B[38;5;241m.2\u001B[39m, random_state\u001B[38;5;241m=\u001B[39m\u001B[38;5;241m10\u001B[39m)\n\u001B[1;32m----> 5\u001B[0m train_data \u001B[38;5;241m=\u001B[39m np\u001B[38;5;241m.\u001B[39marray(train_data)\n\u001B[0;32m      6\u001B[0m test_data \u001B[38;5;241m=\u001B[39m np\u001B[38;5;241m.\u001B[39marray(test_data)\n",
      "\u001B[1;31mValueError\u001B[0m: setting an array element with a sequence. The requested array has an inhomogeneous shape after 2 dimensions. The detected shape was (1367, 5) + inhomogeneous part."
     ]
    }
   ],
   "execution_count": 24
  },
  {
   "cell_type": "code",
   "source": [
    "def sequences2l(sequences, trg_path):\n",
    "    with open(trg_path, 'a', encoding='utf8') as f:\n",
    "        for seq in tqdm.tqdm(sequences, 'write data into file: %s' % trg_path):\n",
    "            s_seq, a_seq, p_seq, it_seq, at_seq = seq\n",
    "            seq_len = len(s_seq)\n",
    "            f.write(str(seq_len) + '\\n')\n",
    "            f.write(','.join([str(s) for s in s_seq]) + '\\n')\n",
    "            f.write(','.join([str(a) for a in a_seq]) + '\\n')\n",
    "            f.write(','.join([str(p) for p in p_seq]) + '\\n')\n",
    "            f.write(','.join([str(i) for i in it_seq]) + '\\n')\n",
    "            f.write(','.join([str(a) for a in at_seq]) + '\\n')\n",
    "\n",
    "from sklearn.model_selection import KFold\n",
    "\n",
    "# split into 5 folds\n",
    "kfold = KFold(n_splits=5, shuffle=True, random_state=10)\n",
    "idx = 0\n",
    "for train_data_1, valid_data in kfold.split(train_data):\n",
    "    # 使用列表推导式根据索引提取子集\n",
    "    train_subset = [train_data[i] for i in train_data_1]\n",
    "    valid_subset = [train_data[i] for i in valid_data]\n",
    "    \n",
    "    sequences2l(train_subset, '../../data/anonymized_full_release_competition_dataset/train' + str(idx) + '.txt')\n",
    "    sequences2l(valid_subset, '../../data/anonymized_full_release_competition_dataset/valid' + str(idx) + '.txt')\n",
    "    \n",
    "    idx += 1\n",
    "\n",
    "# 处理测试数据\n",
    "sequences2l(test_data, '../../data/anonymized_full_release_competition_dataset/test.txt')\n"
   ],
   "metadata": {
    "collapsed": false,
    "pycharm": {
     "name": "#%%\n"
    },
    "ExecuteTime": {
     "end_time": "2024-08-25T02:33:39.558892Z",
     "start_time": "2024-08-25T02:33:30.636672Z"
    }
   },
   "outputs": [
    {
     "name": "stderr",
     "output_type": "stream",
     "text": [
      "write data into file: ../../data/anonymized_full_release_competition_dataset/train0.txt: 100%|██████████| 1093/1093 [00:01<00:00, 695.26it/s]\n",
      "write data into file: ../../data/anonymized_full_release_competition_dataset/valid0.txt: 100%|██████████| 274/274 [00:00<00:00, 1062.35it/s]\n",
      "write data into file: ../../data/anonymized_full_release_competition_dataset/train1.txt: 100%|██████████| 1093/1093 [00:01<00:00, 813.15it/s]\n",
      "write data into file: ../../data/anonymized_full_release_competition_dataset/valid1.txt: 100%|██████████| 274/274 [00:00<00:00, 734.24it/s]\n",
      "write data into file: ../../data/anonymized_full_release_competition_dataset/train2.txt: 100%|██████████| 1094/1094 [00:01<00:00, 899.51it/s] \n",
      "write data into file: ../../data/anonymized_full_release_competition_dataset/valid2.txt: 100%|██████████| 273/273 [00:00<00:00, 1102.27it/s]\n",
      "write data into file: ../../data/anonymized_full_release_competition_dataset/train3.txt: 100%|██████████| 1094/1094 [00:01<00:00, 978.12it/s] \n",
      "write data into file: ../../data/anonymized_full_release_competition_dataset/valid3.txt: 100%|██████████| 273/273 [00:00<00:00, 1121.09it/s]\n",
      "write data into file: ../../data/anonymized_full_release_competition_dataset/train4.txt: 100%|██████████| 1094/1094 [00:01<00:00, 674.04it/s]\n",
      "write data into file: ../../data/anonymized_full_release_competition_dataset/valid4.txt: 100%|██████████| 273/273 [00:00<00:00, 983.06it/s] \n",
      "write data into file: ../../data/anonymized_full_release_competition_dataset/test.txt: 100%|██████████| 342/342 [00:00<00:00, 694.81it/s]\n"
     ]
    }
   ],
   "execution_count": 27
  }
 ],
 "metadata": {
  "kernelspec": {
   "display_name": "Python 3",
   "language": "python",
   "name": "python3"
  },
  "language_info": {
   "codemirror_mode": {
    "name": "ipython",
    "version": 3
   },
   "file_extension": ".py",
   "mimetype": "text/x-python",
   "name": "python",
   "nbconvert_exporter": "python",
   "pygments_lexer": "ipython3",
   "version": "3.9.0"
  }
 },
 "nbformat": 4,
 "nbformat_minor": 1
}
